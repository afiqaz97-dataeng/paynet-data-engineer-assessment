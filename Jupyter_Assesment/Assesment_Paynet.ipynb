{
 "cells": [
  {
   "cell_type": "code",
   "execution_count": 1,
   "id": "d88bf759",
   "metadata": {},
   "outputs": [],
   "source": [
    "# pip install request\n",
    "# pip install kagglehub\n",
    "# !pip install pyspark\n",
    "# !pip install matplotlib\n",
    "# !pip install seaborn\n",
    "# !pip install pandas"
   ]
  },
  {
   "cell_type": "markdown",
   "id": "39f74863",
   "metadata": {},
   "source": [
    "## Objective\n",
    "This project demonstrates how to use **PySpark** for reading, transforming, and analyzing a messy credit card transaction dataset. The goal is to:\n",
    "\n",
    "- Clean and structure the raw data\n",
    "- Mask personally identifiable information (PII)\n",
    "- Convert timestamps to Malaysia timezone (UTC+8)\n",
    "- Perform exploratory data analysis and create visualizations\n",
    "- Identify and highlight fraud patterns\n",
    "\n",
    "The dataset was sourced from Kaggle and contains a mix of structured and semi-structured data, requiring careful cleaning and transformation.\n"
   ]
  },
  {
   "cell_type": "code",
   "execution_count": 2,
   "id": "7c0beded",
   "metadata": {},
   "outputs": [
    {
     "name": "stdout",
     "output_type": "stream",
     "text": [
      "Spark version: 4.0.0\n"
     ]
    }
   ],
   "source": [
    "from pyspark.sql import SparkSession\n",
    "from pyspark.sql.functions import *\n",
    "from pyspark.sql.types import *\n",
    "import matplotlib.pyplot as plt\n",
    "import seaborn as sns\n",
    "import pandas as pd\n",
    "\n",
    "# Start Spark session\n",
    "spark = SparkSession.builder \\\n",
    "    .appName(\"PayNet Credit Card Fraud Detection\") \\\n",
    "    .getOrCreate()\n",
    "\n",
    "# Optional: Check Spark version\n",
    "print(\"Spark version:\", spark.version)"
   ]
  },
  {
   "cell_type": "markdown",
   "id": "59ef2b73",
   "metadata": {},
   "source": [
    "# Read Json Dataset with Pyspark"
   ]
  },
  {
   "cell_type": "code",
   "execution_count": 3,
   "id": "9fbe8cac",
   "metadata": {},
   "outputs": [],
   "source": [
    "df_raw = spark.read.json(r\"C:\\Users\\Afiq Azizi\\Desktop\\Assesment\\Jupyter_Assesment\\cc_sample_transaction.json\", multiLine=True)"
   ]
  },
  {
   "cell_type": "code",
   "execution_count": 4,
   "id": "150fe1c6",
   "metadata": {},
   "outputs": [
    {
     "name": "stdout",
     "output_type": "stream",
     "text": [
      "root\n",
      " |-- Unnamed: 0: string (nullable = true)\n",
      " |-- amt: string (nullable = true)\n",
      " |-- category: string (nullable = true)\n",
      " |-- cc_bic: string (nullable = true)\n",
      " |-- cc_num: string (nullable = true)\n",
      " |-- is_fraud: string (nullable = true)\n",
      " |-- merch_eff_time: string (nullable = true)\n",
      " |-- merch_last_update_time: string (nullable = true)\n",
      " |-- merch_lat: string (nullable = true)\n",
      " |-- merch_long: string (nullable = true)\n",
      " |-- merch_zipcode: string (nullable = true)\n",
      " |-- merchant: string (nullable = true)\n",
      " |-- personal_detail: string (nullable = true)\n",
      " |-- trans_date_trans_time: string (nullable = true)\n",
      " |-- trans_num: string (nullable = true)\n",
      "\n",
      "+----------+----+--------+-----------+----------------+--------+----------------+----------------------+---------+----------+-------------+--------------------------+-----------------------------------------------------------------------------------------------------------------------------------------------------------------------------------------------------------------------------------------------------------------------+---------------------+--------------------------------+\n",
      "|Unnamed: 0|amt |category|cc_bic     |cc_num          |is_fraud|merch_eff_time  |merch_last_update_time|merch_lat|merch_long|merch_zipcode|merchant                  |personal_detail                                                                                                                                                                                                                                                        |trans_date_trans_time|trans_num                       |\n",
      "+----------+----+--------+-----------+----------------+--------+----------------+----------------------+---------+----------+-------------+--------------------------+-----------------------------------------------------------------------------------------------------------------------------------------------------------------------------------------------------------------------------------------------------------------------+---------------------+--------------------------------+\n",
      "|0         |4.97|misc_net|CITIUS33CHI|2703186189652095|0       |1325376018798532|1325376018666         |36.011293|-82.048315|28705        |fraud_Rippin, Kub and Mann|{\"person_name\":\"Jennifer,Banks,eeeee\",\"gender\":\"F\",\"address\":\"{\\\"street\\\":\\\"561 Perry Cove\\\",\\\"city\\\":\\\"Moravian Falls\\\",\\\"state\\\":\\\"NC\\\",\\\"zip\\\":\\\"28654\\\"}\",\"lat\":\"36.0788\",\"long\":\"-81.1781\",\"city_pop\":\"3495\",\"job\":\"Psychologist, counselling\",\"dob\":\"1988-03-09\"}|2019-01-01 00:00:18  |0b242abb623afc578575680df30655b9|\n",
      "+----------+----+--------+-----------+----------------+--------+----------------+----------------------+---------+----------+-------------+--------------------------+-----------------------------------------------------------------------------------------------------------------------------------------------------------------------------------------------------------------------------------------------------------------------+---------------------+--------------------------------+\n",
      "\n"
     ]
    }
   ],
   "source": [
    "# Read the JSON file\n",
    "df_raw = spark.read.json(r\"C:\\Users\\Afiq Azizi\\Desktop\\Assesment\\Jupyter_Assesment\\cc_sample_transaction.json\", multiLine=True)\n",
    "\n",
    "# Preview the schema\n",
    "df_raw.printSchema()\n",
    "\n",
    "# Show a few rows\n",
    "df_raw.show(5, truncate=False)"
   ]
  },
  {
   "cell_type": "markdown",
   "id": "d7b81768",
   "metadata": {},
   "source": [
    "# Flatten Personel Details Column"
   ]
  },
  {
   "cell_type": "code",
   "execution_count": 5,
   "id": "96798acd",
   "metadata": {},
   "outputs": [],
   "source": [
    "from pyspark.sql.functions import from_json, col\n",
    "\n",
    "# Define schema for personal_detail\n",
    "personal_schema = StructType([\n",
    "    StructField(\"person_name\", StringType(), True),\n",
    "    StructField(\"gender\", StringType(), True),\n",
    "    StructField(\"address\", StringType(), True),\n",
    "    StructField(\"lat\", StringType(), True),\n",
    "    StructField(\"long\", StringType(), True),\n",
    "    StructField(\"city_pop\", StringType(), True),\n",
    "    StructField(\"job\", StringType(), True),\n",
    "    StructField(\"dob\", StringType(), True),\n",
    "])\n",
    "\n",
    "# Parse personal_detail\n",
    "df_parsed = df_raw.withColumn(\"personal_detail_json\", from_json(col(\"personal_detail\"), personal_schema))\n",
    "\n",
    "# Extract top-level fields\n",
    "df_extracted = df_parsed \\\n",
    "    .withColumn(\"person_name\", col(\"personal_detail_json.person_name\")) \\\n",
    "    .withColumn(\"gender\", col(\"personal_detail_json.gender\")) \\\n",
    "    .withColumn(\"lat\", col(\"personal_detail_json.lat\")) \\\n",
    "    .withColumn(\"long\", col(\"personal_detail_json.long\")) \\\n",
    "    .withColumn(\"city_pop\", col(\"personal_detail_json.city_pop\")) \\\n",
    "    .withColumn(\"job\", col(\"personal_detail_json.job\")) \\\n",
    "    .withColumn(\"dob\", col(\"personal_detail_json.dob\")) \\\n",
    "    .withColumn(\"address_json\", from_json(col(\"personal_detail_json.address\"), MapType(StringType(), StringType())))\n",
    "\n",
    "# Extract address fields\n",
    "df_final = df_extracted \\\n",
    "    .withColumn(\"street\", col(\"address_json.street\")) \\\n",
    "    .withColumn(\"city\", col(\"address_json.city\")) \\\n",
    "    .withColumn(\"state\", col(\"address_json.state\")) \\\n",
    "    .withColumn(\"zip\", col(\"address_json.zip\"))\n"
   ]
  },
  {
   "cell_type": "code",
   "execution_count": 6,
   "id": "0fa82fa0",
   "metadata": {},
   "outputs": [
    {
     "name": "stdout",
     "output_type": "stream",
     "text": [
      "+--------------------+------+-------+--------+-------------------------+----------+--------------+--------------+-----+-----+\n",
      "|person_name         |gender|lat    |long    |job                      |dob       |street        |city          |state|zip  |\n",
      "+--------------------+------+-------+--------+-------------------------+----------+--------------+--------------+-----+-----+\n",
      "|Jennifer,Banks,eeeee|F     |36.0788|-81.1781|Psychologist, counselling|1988-03-09|561 Perry Cove|Moravian Falls|NC   |28654|\n",
      "+--------------------+------+-------+--------+-------------------------+----------+--------------+--------------+-----+-----+\n",
      "\n"
     ]
    }
   ],
   "source": [
    "df_final.select(\"person_name\", \"gender\", \"lat\", \"long\", \"job\", \"dob\", \"street\", \"city\", \"state\", \"zip\").show(5, truncate=False)\n"
   ]
  },
  {
   "cell_type": "markdown",
   "id": "6a15641b",
   "metadata": {},
   "source": [
    "# Clean person_name to Extract First and Last Name"
   ]
  },
  {
   "cell_type": "code",
   "execution_count": 7,
   "id": "54c3fc7d",
   "metadata": {},
   "outputs": [],
   "source": [
    "from pyspark.sql.functions import split\n",
    "\n",
    "# Clean person_name → extract first and last names\n",
    "df_named = df_final \\\n",
    "    .withColumn(\"first\", split(col(\"person_name\"), \",\").getItem(0)) \\\n",
    "    .withColumn(\"last\", split(col(\"person_name\"), \",\").getItem(1))\n"
   ]
  },
  {
   "cell_type": "code",
   "execution_count": 8,
   "id": "90ab710b",
   "metadata": {},
   "outputs": [
    {
     "name": "stdout",
     "output_type": "stream",
     "text": [
      "+--------------------+--------+-----+\n",
      "|person_name         |first   |last |\n",
      "+--------------------+--------+-----+\n",
      "|Jennifer,Banks,eeeee|Jennifer|Banks|\n",
      "+--------------------+--------+-----+\n",
      "\n"
     ]
    }
   ],
   "source": [
    "df_named.select(\"person_name\", \"first\", \"last\").show(5, truncate=False)\n"
   ]
  },
  {
   "cell_type": "markdown",
   "id": "0d6c4c7d",
   "metadata": {},
   "source": [
    "# To check if there is any null records or empty name to remarks"
   ]
  },
  {
   "cell_type": "code",
   "execution_count": 9,
   "id": "21cca3b4",
   "metadata": {},
   "outputs": [
    {
     "name": "stdout",
     "output_type": "stream",
     "text": [
      "+----------------+---------------+--------------+\n",
      "|null_person_name|null_first_name|null_last_name|\n",
      "+----------------+---------------+--------------+\n",
      "|               0|              0|             0|\n",
      "+----------------+---------------+--------------+\n",
      "\n"
     ]
    }
   ],
   "source": [
    "from pyspark.sql.functions import col, length, isnull\n",
    "\n",
    "# Count null or empty person_name\n",
    "df_named.select(\n",
    "    count(when(col(\"person_name\").isNull() | (col(\"person_name\") == \"\"), \"person_name\")).alias(\"null_person_name\"),\n",
    "    count(when(col(\"first\").isNull() | (col(\"first\") == \"\"), \"first\")).alias(\"null_first_name\"),\n",
    "    count(when(col(\"last\").isNull() | (col(\"last\") == \"\"), \"last\")).alias(\"null_last_name\")\n",
    ").show()\n"
   ]
  },
  {
   "cell_type": "markdown",
   "id": "28fb79ec",
   "metadata": {},
   "source": [
    "# Convert Timestamp to UTC +8"
   ]
  },
  {
   "cell_type": "code",
   "execution_count": 10,
   "id": "da260f34",
   "metadata": {},
   "outputs": [],
   "source": [
    "from pyspark.sql.functions import to_timestamp, from_utc_timestamp\n",
    "\n",
    "df_time = df_named \\\n",
    "    .withColumn(\"trans_time_utc8\", from_utc_timestamp(to_timestamp(\"trans_date_trans_time\", \"yyyy-MM-dd HH:mm:ss\"), \"Asia/Kuala_Lumpur\")) \\\n",
    "    .withColumn(\"merch_last_update_time_utc8\", from_utc_timestamp(to_timestamp(\"merch_last_update_time\"), \"Asia/Kuala_Lumpur\")) \\\n",
    "    .withColumn(\"merch_eff_time_utc8\", from_utc_timestamp(to_timestamp(\"merch_eff_time\"), \"Asia/Kuala_Lumpur\"))\n"
   ]
  },
  {
   "cell_type": "code",
   "execution_count": 11,
   "id": "9a524981",
   "metadata": {},
   "outputs": [
    {
     "name": "stdout",
     "output_type": "stream",
     "text": [
      "+---------------------+-------------------+\n",
      "|trans_date_trans_time|trans_time_utc8    |\n",
      "+---------------------+-------------------+\n",
      "|2019-01-01 00:00:18  |2019-01-01 08:00:18|\n",
      "+---------------------+-------------------+\n",
      "\n"
     ]
    }
   ],
   "source": [
    "df_time.select(\"trans_date_trans_time\", \"trans_time_utc8\").show(5, truncate=False)\n"
   ]
  },
  {
   "cell_type": "code",
   "execution_count": 12,
   "id": "eca9f901",
   "metadata": {},
   "outputs": [],
   "source": [
    "from pyspark.sql.functions import lit, concat\n",
    "\n",
    "# Mask credit card number and drop first name\n",
    "df_pii = df_time \\\n",
    "    .withColumn(\"cc_num_masked\", concat(lit(\"************\"), col(\"cc_num\").substr(-4, 4))) \\\n",
    "    .drop(\"cc_num\", \"first\")\n"
   ]
  },
  {
   "cell_type": "code",
   "execution_count": 13,
   "id": "ffff9862",
   "metadata": {},
   "outputs": [
    {
     "name": "stdout",
     "output_type": "stream",
     "text": [
      "+----------------+-----+\n",
      "|cc_num_masked   |last |\n",
      "+----------------+-----+\n",
      "|************2095|Banks|\n",
      "+----------------+-----+\n",
      "\n"
     ]
    }
   ],
   "source": [
    "df_pii.select(\"cc_num_masked\", \"last\").show(5, truncate=False)\n"
   ]
  },
  {
   "cell_type": "code",
   "execution_count": 15,
   "id": "eee87a6a",
   "metadata": {},
   "outputs": [],
   "source": [
    "from pyspark.sql.functions import from_unixtime, from_utc_timestamp, to_timestamp, col\n",
    "\n",
    "df_time = df_named \\\n",
    "    .withColumn(\"trans_time_utc8\", from_utc_timestamp(to_timestamp(\"trans_date_trans_time\", \"yyyy-MM-dd HH:mm:ss\"), \"Asia/Kuala_Lumpur\")) \\\n",
    "    .withColumn(\"merch_last_update_time_utc8\",\n",
    "                from_utc_timestamp(from_unixtime(col(\"merch_last_update_time\").cast(\"long\") / 1000), \"Asia/Kuala_Lumpur\")) \\\n",
    "    .withColumn(\"merch_eff_time_utc8\",\n",
    "                from_utc_timestamp(from_unixtime(col(\"merch_eff_time\").cast(\"long\") / 1000), \"Asia/Kuala_Lumpur\"))\n"
   ]
  },
  {
   "cell_type": "code",
   "execution_count": 16,
   "id": "5d6c7d9c",
   "metadata": {},
   "outputs": [
    {
     "name": "stdout",
     "output_type": "stream",
     "text": [
      "+----------+---+--------+------+------+--------+--------------+----------------------+---------+----------+-------------+--------+---------------+---------------------+---------+--------------------+-----------+------+---+----+--------+---+---+------------+------+----+-----+---+-----+----+---------------+---------------------------+-------------------+\n",
      "|Unnamed: 0|amt|category|cc_bic|cc_num|is_fraud|merch_eff_time|merch_last_update_time|merch_lat|merch_long|merch_zipcode|merchant|personal_detail|trans_date_trans_time|trans_num|personal_detail_json|person_name|gender|lat|long|city_pop|job|dob|address_json|street|city|state|zip|first|last|trans_time_utc8|merch_last_update_time_utc8|merch_eff_time_utc8|\n",
      "+----------+---+--------+------+------+--------+--------------+----------------------+---------+----------+-------------+--------+---------------+---------------------+---------+--------------------+-----------+------+---+----+--------+---+---+------------+------+----+-----+---+-----+----+---------------+---------------------------+-------------------+\n",
      "|0         |0  |0       |0     |0     |0       |0             |0                     |0        |0         |0            |0       |0              |0                    |0        |0                   |0          |0     |0  |0   |0       |0  |0  |0           |0     |0   |0    |0  |0    |0   |0              |0                          |0                  |\n",
      "+----------+---+--------+------+------+--------+--------------+----------------------+---------+----------+-------------+--------+---------------+---------------------+---------+--------------------+-----------+------+---+----+--------+---+---+------------+------+----+-----+---+-----+----+---------------+---------------------------+-------------------+\n",
      "\n"
     ]
    }
   ],
   "source": [
    "from pyspark.sql.functions import count, when\n",
    "\n",
    "df_time.select([\n",
    "    count(when(col(c).isNull(), c)).alias(c)\n",
    "    for c in df_time.columns\n",
    "]).show(truncate=False)\n"
   ]
  },
  {
   "cell_type": "code",
   "execution_count": 17,
   "id": "7422c3f2",
   "metadata": {},
   "outputs": [
    {
     "name": "stdout",
     "output_type": "stream",
     "text": [
      "+---------+-----+\n",
      "|trans_num|count|\n",
      "+---------+-----+\n",
      "+---------+-----+\n",
      "\n"
     ]
    }
   ],
   "source": [
    "df_time.groupBy(\"trans_num\").count().filter(\"count > 1\").show()\n"
   ]
  },
  {
   "cell_type": "code",
   "execution_count": 18,
   "id": "32eedcdc",
   "metadata": {},
   "outputs": [
    {
     "name": "stdout",
     "output_type": "stream",
     "text": [
      "+---+---------+\n",
      "|amt|trans_num|\n",
      "+---+---------+\n",
      "+---+---------+\n",
      "\n"
     ]
    }
   ],
   "source": [
    "df_time.filter(col(\"amt\").cast(\"float\") <= 0).select(\"amt\", \"trans_num\").show(5)\n"
   ]
  },
  {
   "cell_type": "code",
   "execution_count": 19,
   "id": "d05e3b0a",
   "metadata": {},
   "outputs": [
    {
     "name": "stdout",
     "output_type": "stream",
     "text": [
      "+---+----+---------+\n",
      "|lat|long|trans_num|\n",
      "+---+----+---------+\n",
      "+---+----+---------+\n",
      "\n"
     ]
    }
   ],
   "source": [
    "df_time.filter(\n",
    "    (col(\"lat\").cast(\"float\") < -90) | (col(\"lat\").cast(\"float\") > 90) |\n",
    "    (col(\"long\").cast(\"float\") < -180) | (col(\"long\").cast(\"float\") > 180)\n",
    ").select(\"lat\", \"long\", \"trans_num\").show(5)\n"
   ]
  },
  {
   "cell_type": "code",
   "execution_count": 20,
   "id": "1471e5e2",
   "metadata": {},
   "outputs": [],
   "source": [
    "df_vis = df_time.select(\n",
    "    \"amt\", \"category\", \"merchant\", \"city\", \"state\", \"gender\", \"job\", \"city_pop\", \"trans_time_utc8\", \"is_fraud\"\n",
    ").toPandas()\n"
   ]
  },
  {
   "cell_type": "code",
   "execution_count": 21,
   "id": "5770eaae",
   "metadata": {},
   "outputs": [
    {
     "data": {
      "image/png": "[encoded data removed]",
      "text/plain": [
       "<Figure size 640x480 with 1 Axes>"
      ]
     },
     "metadata": {},
     "output_type": "display_data"
    }
   ],
   "source": [
    "sns.countplot(x=\"is_fraud\", data=df_vis)\n",
    "plt.title(\"Fraud vs Non-Fraud Transactions\")\n",
    "plt.xlabel(\"Is Fraud?\")\n",
    "plt.ylabel(\"Count\")\n",
    "plt.show()\n"
   ]
  },
  {
   "cell_type": "code",
   "execution_count": 24,
   "id": "4f7bdb48",
   "metadata": {},
   "outputs": [
    {
     "data": {
      "image/png": "[encoded data removed]",
      "text/plain": [
       "<Figure size 640x480 with 1 Axes>"
      ]
     },
     "metadata": {},
     "output_type": "display_data"
    }
   ],
   "source": [
    "df_vis[\"amt\"] = df_vis[\"amt\"].astype(float)\n",
    "\n",
    "\n",
    "df_vis.groupby(\"category\")[\"amt\"].sum().sort_values(ascending=False).head(10).plot(kind='bar')\n",
    "plt.title(\"Top Merchant Categories by Total Amount\")\n",
    "plt.ylabel(\"Total Amount Spent\")\n",
    "plt.xticks(rotation=45)\n",
    "plt.show()\n"
   ]
  },
  {
   "cell_type": "code",
   "execution_count": 29,
   "id": "ea1e1c93",
   "metadata": {},
   "outputs": [
    {
     "name": "stdout",
     "output_type": "stream",
     "text": [
      "1\n"
     ]
    }
   ],
   "source": [
    "df_vis[\"trans_time_utc8\"] = pd.to_datetime(df_vis[\"trans_time_utc8\"], errors='coerce')\n",
    "\n",
    "# Count unique dates\n",
    "print(df_vis[\"trans_time_utc8\"].dt.date.nunique())\n",
    "\n"
   ]
  },
  {
   "cell_type": "code",
   "execution_count": 31,
   "id": "929531bb",
   "metadata": {},
   "outputs": [
    {
     "data": {
      "image/png": "[encoded data removed]",
      "text/plain": [
       "<Figure size 640x480 with 1 Axes>"
      ]
     },
     "metadata": {},
     "output_type": "display_data"
    }
   ],
   "source": [
    "# Extract hour from transaction timestamp\n",
    "df_vis[\"hour\"] = df_vis[\"trans_time_utc8\"].dt.hour\n",
    "\n",
    "# Plot total amount by hour\n",
    "df_vis.groupby(\"hour\")[\"amt\"].sum().plot(kind=\"bar\", color='skyblue')\n",
    "plt.title(\"Total Transaction Amount by Hour of Day\")\n",
    "plt.xlabel(\"Hour\")\n",
    "plt.ylabel(\"Total Amount\")\n",
    "plt.xticks(rotation=0)\n",
    "plt.grid(axis=\"y\")\n",
    "plt.tight_layout()\n",
    "plt.show()\n",
    "\n"
   ]
  },
  {
   "cell_type": "code",
   "execution_count": 34,
   "id": "f90ae784",
   "metadata": {},
   "outputs": [
    {
     "data": {
      "image/png": "[encoded data removed]",
      "text/plain": [
       "<Figure size 640x480 with 1 Axes>"
      ]
     },
     "metadata": {},
     "output_type": "display_data"
    }
   ],
   "source": [
    "df_vis.groupby(\"job\")[\"amt\"].sum().sort_values(ascending=False).head(10).plot(kind=\"bar\")\n",
    "plt.title(\"Top Jobs by Total Transaction Amount\")\n",
    "plt.xlabel(\"Job\")\n",
    "plt.ylabel(\"Amount\")\n",
    "plt.xticks(rotation=45)\n",
    "plt.tight_layout()\n",
    "plt.show()\n",
    "\n"
   ]
  },
  {
   "cell_type": "code",
   "execution_count": null,
   "id": "3dc56ffb",
   "metadata": {},
   "outputs": [],
   "source": []
  }
 ],
 "metadata": {
  "kernelspec": {
   "display_name": ".conda",
   "language": "python",
   "name": "python3"
  },
  "language_info": {
   "codemirror_mode": {
    "name": "ipython",
    "version": 3
   },
   "file_extension": ".py",
   "mimetype": "text/x-python",
   "name": "python",
   "nbconvert_exporter": "python",
   "pygments_lexer": "ipython3",
   "version": "3.12.4"
  }
 },
 "nbformat": 4,
 "nbformat_minor": 5
}
